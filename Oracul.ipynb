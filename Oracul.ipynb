{
 "cells": [
  {
   "cell_type": "code",
   "execution_count": 10,
   "metadata": {},
   "outputs": [],
   "source": [
    "import csv\n",
    "def oracul(inputText):    \n",
    "    csv_path = \"letters.csv\"\n",
    "    with open(csv_path, \"r\") as f_obj:\n",
    "        reader = csv.reader(f_obj)\n",
    "        letters = {}\n",
    "        for row in reader:\n",
    "            letters[row[1]] = row[0]\n",
    "    #print(letters)\n",
    "\n",
    "    csv_path = \"pairLetters.csv\"\n",
    "\n",
    "    with open(csv_path, \"r\") as f_obj:\n",
    "        reader = csv.reader(f_obj)\n",
    "        pairLetters = {}\n",
    "        for row in reader:\n",
    "            i = 0\n",
    "            for data in row: \n",
    "                if i % 2 == 0:\n",
    "                    data1 = data\n",
    "                else:\n",
    "                    pairLetters[data1] = data\n",
    "                i += 1\n",
    "    #print(pairLetters)\n",
    "    inputText = inputText.lower()\n",
    "\n",
    "    #print(inputText)\n",
    "\n",
    "    j = 0\n",
    "    \n",
    "    alphaCount = 0\n",
    "    \n",
    "    targetText = \"\"\n",
    "\n",
    "    for symbol in inputText:\n",
    "        if ((symbol >= \"a\") and (symbol <= \"z\")):\n",
    "            alphaCount += 1\n",
    "        \n",
    "        if ((symbol < \"a\") or (symbol > \"z\")) and (symbol != \" \") and (symbol != \",\") and (symbol != \".\") and (symbol != \":\") and (symbol != \";\") and (symbol != \"!\") and (symbol != \"?\") and (symbol != '\"') and (symbol != \"'\") and (symbol != \"№\") and  not ((symbol >= '0') or (symbol <= '9') ):\n",
    "            j += 1\n",
    "        else:\n",
    "            targetText += symbol\n",
    "            \n",
    "    leng = len(inputText)\n",
    "    \n",
    "    if  j / leng > 0.2:\n",
    "        return 0\n",
    "        \n",
    "    \n",
    "    targetText = targetText.upper()\n",
    "    \n",
    "    #print(targetText)\n",
    "    \n",
    "    \n",
    "    res = {i : targetText.count(i)*100/alphaCount for i in letters}\n",
    "    #print(res)\n",
    "    \n",
    "    pairCount = 0\n",
    "    \n",
    "    for i in pairLetters:\n",
    "        pairCount += targetText.count(i)\n",
    "    \n",
    "    res1 = {i : targetText.count(i)*100/pairCount for i in pairLetters}\n",
    "    \n",
    "    #print(res1)\n",
    "    i = 0\n",
    "    for symbol in letters:\n",
    "        i += abs(float(letters[symbol]) - float(res[symbol]))\n",
    "    print(i)\n",
    "    if i > 30:\n",
    "        return 0\n",
    "    \n",
    "    i = 0\n",
    "    for symbol in pairLetters:\n",
    "        i += abs(float(pairLetters[symbol]) - float(res1[symbol]))\n",
    "        \n",
    "    print(i)\n",
    "    if i > 50:\n",
    "        return 0\n",
    "    return 1\n",
    "\n",
    "    \n",
    "    \n",
    "    \n",
    "    \n",
    "                \n",
    "            "
   ]
  },
  {
   "cell_type": "code",
   "execution_count": 11,
   "metadata": {},
   "outputs": [
    {
     "name": "stdout",
     "output_type": "stream",
     "text": [
      "13.554543585808059\n",
      "37.02092305174734\n",
      "1\n"
     ]
    }
   ],
   "source": [
    "    with open(\"Shakespeare William. The Sonnets.txt\", \"r\") as file:\n",
    "        content = file.read()\n",
    "        print(oracul(content))"
   ]
  },
  {
   "cell_type": "code",
   "execution_count": 12,
   "metadata": {},
   "outputs": [
    {
     "name": "stdout",
     "output_type": "stream",
     "text": [
      "83.91607843137253\n",
      "0\n"
     ]
    }
   ],
   "source": [
    "    with open(\"bad.txt\", \"r\") as file:\n",
    "        content = file.read()\n",
    "        print(oracul(content))"
   ]
  },
  {
   "cell_type": "code",
   "execution_count": null,
   "metadata": {},
   "outputs": [],
   "source": []
  },
  {
   "cell_type": "code",
   "execution_count": null,
   "metadata": {},
   "outputs": [],
   "source": []
  },
  {
   "cell_type": "code",
   "execution_count": null,
   "metadata": {},
   "outputs": [],
   "source": []
  }
 ],
 "metadata": {
  "kernelspec": {
   "display_name": "Python 3",
   "language": "python",
   "name": "python3"
  },
  "language_info": {
   "codemirror_mode": {
    "name": "ipython",
    "version": 3
   },
   "file_extension": ".py",
   "mimetype": "text/x-python",
   "name": "python",
   "nbconvert_exporter": "python",
   "pygments_lexer": "ipython3",
   "version": "3.8.5"
  }
 },
 "nbformat": 4,
 "nbformat_minor": 4
}