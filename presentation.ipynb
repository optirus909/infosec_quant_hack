{
 "cells": [
  {
   "cell_type": "code",
   "execution_count": 5,
   "metadata": {},
   "outputs": [],
   "source": [
    "import matplotlib.pyplot as plt\n",
    "%matplotlib inline\n",
    "import numpy as np\n",
    "import math\n",
    "from random import randrange\n",
    "\n",
    "from qiskit import IBMQ, BasicAer, Aer\n",
    "from qiskit.providers.ibmq import least_busy\n",
    "from qiskit import QuantumCircuit, ClassicalRegister, QuantumRegister, execute\n",
    "\n",
    "from qiskit.visualization import plot_histogram"
   ]
  },
  {
   "cell_type": "code",
   "execution_count": 38,
   "metadata": {},
   "outputs": [],
   "source": [
    "import csv\n",
    "\n",
    "def oracul(inputText):    \n",
    "    csv_path = \"letters.csv\"\n",
    "    with open(csv_path, \"r\") as f_obj:\n",
    "        reader = csv.reader(f_obj)\n",
    "        letters = {}\n",
    "        for row in reader:\n",
    "            letters[row[1]] = row[0]\n",
    "    #print(letters)\n",
    "\n",
    "    csv_path = \"pairLetters.csv\"\n",
    "\n",
    "    with open(csv_path, \"r\") as f_obj:\n",
    "        reader = csv.reader(f_obj)\n",
    "        pairLetters = {}\n",
    "        for row in reader:\n",
    "            i = 0\n",
    "            for data in row: \n",
    "                if i % 2 == 0:\n",
    "                    data1 = data\n",
    "                else:\n",
    "                    pairLetters[data1] = data\n",
    "                i += 1\n",
    "    #print(pairLetters)\n",
    "    inputText = inputText.lower()\n",
    "\n",
    "    #print(inputText)\n",
    "\n",
    "    j = 0\n",
    "    \n",
    "    alphaCount = 0\n",
    "    \n",
    "    targetText = \"\"\n",
    "\n",
    "    for symbol in inputText:\n",
    "        if ((symbol >= \"a\") and (symbol <= \"z\")):\n",
    "            alphaCount += 1\n",
    "        \n",
    "        if ((symbol < \"a\") or (symbol > \"z\")) and (symbol != \" \") and (symbol != \",\") and (symbol != \".\") and (symbol != \":\") and (symbol != \";\") and (symbol != \"!\") and (symbol != \"?\") and (symbol != '\"') and (symbol != \"'\") and (symbol != \"№\") and  not ((symbol >= '0') or (symbol <= '9') ):\n",
    "            j += 1\n",
    "        else:\n",
    "            targetText += symbol\n",
    "            \n",
    "    leng = len(inputText)\n",
    "    \n",
    "    if  j / leng > 0.2:\n",
    "        return 0\n",
    "        \n",
    "    \n",
    "    targetText = targetText.upper()\n",
    "    \n",
    "    #print(targetText)\n",
    "    \n",
    "    \n",
    "    res = {i : targetText.count(i)*100/alphaCount for i in letters}\n",
    "    #print(res)\n",
    "    \n",
    "    pairCount = 0\n",
    "    \n",
    "    for i in pairLetters:\n",
    "        pairCount += targetText.count(i)\n",
    "    \n",
    "    res1 = {i : targetText.count(i)*100/pairCount for i in pairLetters}\n",
    "    \n",
    "    #print(res1)\n",
    "    i = 0\n",
    "    for symbol in letters:\n",
    "        i += abs(float(letters[symbol]) - float(res[symbol]))\n",
    "    print(\"Absolute error(one letter): {:.2f}\".format(i))\n",
    "    if i > 30:\n",
    "        print(\"Probability: 0\")\n",
    "        return 0\n",
    "    \n",
    "    i = 0\n",
    "    for symbol in pairLetters:\n",
    "        i += abs(float(pairLetters[symbol]) - float(res1[symbol]))\n",
    "        \n",
    "    print(\"Absolute error(bigrams):    {:.2f}\".format(i))\n",
    "    if i > 50:\n",
    "        print(\"Probability: 0\")\n",
    "        return 0\n",
    "    print(\"Probability: 1\")\n",
    "    return 1"
   ]
  },
  {
   "cell_type": "code",
   "execution_count": 2,
   "metadata": {},
   "outputs": [
    {
     "name": "stdout",
     "output_type": "stream",
     "text": [
      "Target key is 12345678\n",
      "Text encrypted\n"
     ]
    }
   ],
   "source": [
    "import numpy as np\n",
    "from Crypto.Cipher import DES\n",
    " \n",
    "#key_target = np.random.randint(10000000, 99999999)\n",
    "key_target = 12345678\n",
    "print(\"Target key is\", key_target)\n",
    "key_target = str.encode(str(key_target))\n",
    " \n",
    "def pad(text):\n",
    "    while len(text) % 8 != 0:\n",
    "        text += b' '\n",
    "    return text\n",
    " \n",
    "des_target = DES.new(key_target, DES.MODE_ECB)\n",
    "text = open('Shakespeare William. The Sonnets.txt', 'rb').read().replace(b'\\n', b' ').replace(b'\\r', b' ')\n",
    "padded_text = pad(text)\n",
    " \n",
    "encrypted_text = des_target.encrypt(padded_text)\n",
    "print(\"Text encrypted\")"
   ]
  },
  {
   "cell_type": "code",
   "execution_count": 39,
   "metadata": {},
   "outputs": [
    {
     "name": "stdout",
     "output_type": "stream",
     "text": [
      "Absolute error(one letter): 71.08\n",
      "Probability: 0\n"
     ]
    }
   ],
   "source": [
    "_ = decrypt_text(12345671)"
   ]
  },
  {
   "cell_type": "code",
   "execution_count": 40,
   "metadata": {},
   "outputs": [
    {
     "name": "stdout",
     "output_type": "stream",
     "text": [
      "Absolute error(one letter): 13.55\n",
      "Absolute error(bigrams):    37.02\n",
      "Probability: 1\n"
     ]
    }
   ],
   "source": [
    "_ = decrypt_text(12345678)"
   ]
  },
  {
   "cell_type": "code",
   "execution_count": 6,
   "metadata": {},
   "outputs": [],
   "source": [
    "def decrypt_text(key):\n",
    "#     key = 68694034     #from algorithm\n",
    "    # print(\"Is key\", key)\n",
    "    key = str.encode(str(key))\n",
    "    des = DES.new(key, DES.MODE_ECB)\n",
    "\n",
    "    data = des.decrypt(encrypted_text) # to oracle\n",
    "    data = data.decode('latin-1')\n",
    "    \n",
    "    return oracul(data)\n",
    "\n",
    "def run_grovers_algorthm(encrypted_text):\n",
    "    num_qbits = 8\n",
    "    # number of oracles\n",
    "    k = 1\n",
    "\n",
    "    # Set n qubits and n bits\n",
    "    qr = QuantumRegister(num_qbits)\n",
    "    cr = ClassicalRegister(num_qbits)\n",
    "\n",
    "    if num_qbits > 3:\n",
    "        aux = QuantumRegister(num_qbits-3)\n",
    "        groverCircuit = QuantumCircuit(qr,cr, aux)\n",
    "    else:\n",
    "        aux = None\n",
    "        groverCircuit = QuantumCircuit(qr,cr)\n",
    "        \n",
    "    groverCircuit.h(qr)\n",
    "    \n",
    "    result = math.pi*math.sqrt((2**num_qbits)/k)/4 \n",
    "iterations = round(result)\n",
    "print(\"Number of inerations\", iterations)\n",
    "\n",
    "for i in range(iterations-1):\n",
    "    \n",
    "    \n",
    "    groverCircuit.barrier(qr)\n",
    "    \n",
    "    groverCircuit.x(qr[1])\n",
    "    groverCircuit.h(qr[num_qbits-1])\n",
    "    groverCircuit.mct(qr[0:num_qbits-1], qr[num_qbits-1], aux)\n",
    "    groverCircuit.h(qr[num_qbits-1])\n",
    "    groverCircuit.x(qr[1])  \n",
    "\n",
    "    groverCircuit.barrier(qr)\n",
    "    groverCircuit.h(qr)\n",
    "    groverCircuit.x(qr)\n",
    "    groverCircuit.h(qr[num_qbits-1])\n",
    "    groverCircuit.mct(qr[0:num_qbits-1], qr[num_qbits-1], aux)\n",
    "    groverCircuit.h(qr[num_qbits-1])\n",
    "    groverCircuit.x(qr)\n",
    "    groverCircuit.h(qr)\n",
    "\n",
    "groverCircuit.barrier(qr)\n",
    "\n",
    "groverCircuit.draw(output=\"mpl\")"
   ]
  },
  {
   "cell_type": "code",
   "execution_count": 4,
   "metadata": {},
   "outputs": [
    {
     "name": "stdout",
     "output_type": "stream",
     "text": [
      "b'12345678'\n"
     ]
    }
   ],
   "source": []
  },
  {
   "cell_type": "code",
   "execution_count": null,
   "metadata": {},
   "outputs": [],
   "source": []
  },
  {
   "cell_type": "code",
   "execution_count": null,
   "metadata": {},
   "outputs": [],
   "source": []
  },
  {
   "cell_type": "code",
   "execution_count": null,
   "metadata": {},
   "outputs": [],
   "source": []
  },
  {
   "cell_type": "code",
   "execution_count": null,
   "metadata": {},
   "outputs": [],
   "source": []
  },
  {
   "cell_type": "code",
   "execution_count": null,
   "metadata": {},
   "outputs": [],
   "source": []
  },
  {
   "cell_type": "code",
   "execution_count": null,
   "metadata": {},
   "outputs": [],
   "source": []
  },
  {
   "cell_type": "code",
   "execution_count": null,
   "metadata": {},
   "outputs": [],
   "source": []
  },
  {
   "cell_type": "code",
   "execution_count": null,
   "metadata": {},
   "outputs": [],
   "source": []
  },
  {
   "cell_type": "code",
   "execution_count": null,
   "metadata": {},
   "outputs": [],
   "source": []
  }
 ],
 "metadata": {
  "kernelspec": {
   "display_name": "Python [conda env:root] *",
   "language": "python",
   "name": "conda-root-py"
  },
  "language_info": {
   "codemirror_mode": {
    "name": "ipython",
    "version": 3
   },
   "file_extension": ".py",
   "mimetype": "text/x-python",
   "name": "python",
   "nbconvert_exporter": "python",
   "pygments_lexer": "ipython3",
   "version": "3.7.6"
  }
 },
 "nbformat": 4,
 "nbformat_minor": 4
}
